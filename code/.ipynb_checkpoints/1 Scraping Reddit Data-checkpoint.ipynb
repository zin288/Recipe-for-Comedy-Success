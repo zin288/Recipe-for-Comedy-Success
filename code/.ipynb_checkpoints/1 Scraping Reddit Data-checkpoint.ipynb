{
 "cells": [
  {
   "cell_type": "markdown",
   "id": "9820f31f",
   "metadata": {},
   "source": [
    "# Project 3 - Quantifying TV Laughter: A Data-Backed Guide for Brooklyn Nine-Nine and Big Bang Theory Investment"
   ]
  },
  {
   "cell_type": "markdown",
   "id": "676d5586",
   "metadata": {},
   "source": [
    "Scrapping data from subreddit `r/bigbangtheory` and `r/brooklynninenine`"
   ]
  },
  {
   "cell_type": "code",
   "execution_count": null,
   "id": "54fbd787",
   "metadata": {},
   "outputs": [],
   "source": [
    "import pandas as pd\n",
    "import numpy as np\n",
    "import matplotlib.pyplot as plt\n",
    "import seaborn as sns\n",
    "import requests\n",
    "import time\n",
    "import random\n",
    "import os\n",
    "import ipywidgets as widgets\n",
    "from IPython.display import display, HTML"
   ]
  },
  {
   "cell_type": "code",
   "execution_count": null,
   "id": "f31e2b61",
   "metadata": {},
   "outputs": [],
   "source": [
    "def scrape(subreddit_name, limit_val):\n",
    "#     url = 'https://www.reddit.com/r/{}/hot.json'.format(subreddit_name)\n",
    "    url = 'https://www.reddit.com/r/{}.json'.format(subreddit_name)\n",
    "    \n",
    "    posts = []\n",
    "    after = None\n",
    "    \n",
    "    # Setting file paths and folders to save the final dataframes in:\n",
    "    # Construct the file path\n",
    "    current_directory = os.getcwd()  # Get the current working directory\n",
    "    target_directory = os.path.join(current_directory, '..', 'data')\n",
    "    # Create the target directory if it doesn't exist\n",
    "    if not os.path.exists(target_directory):\n",
    "        os.makedirs(target_directory)\n",
    "    # Construct the file path within the target directory\n",
    "    file_path = os.path.join(target_directory, '{}.csv'.format(subreddit_name))\n",
    "    \n",
    "    # Setting the number of reviews to scrape (Each scrape only gives 25 rows)\n",
    "    range_val = int(limit_val/25)\n",
    "    \n",
    "    # Create a progress bar widget\n",
    "    print(subreddit_name)\n",
    "    progress_bar = widgets.IntProgress(min=0, max=range_val, value=0)\n",
    "    display(progress_bar)\n",
    "    \n",
    "    for a in range(range_val):\n",
    "        if after == None:\n",
    "            current_url = url\n",
    "        else:\n",
    "            current_url = url + '?after=' + after\n",
    "        res = requests.get(current_url, headers={'User-agent': 'Pony Inc 1.0'})\n",
    "        print(after)\n",
    "\n",
    "        if res.status_code != 200:\n",
    "            print('Status error', res.status_code)\n",
    "            break\n",
    "\n",
    "        current_dict = res.json()\n",
    "        current_posts = [p['data'] for p in current_dict['data']['children']]\n",
    "        posts.extend(current_posts)\n",
    "        after = current_dict['data']['after']\n",
    "\n",
    "        if a > 0:\n",
    "            prev_posts = pd.read_csv(file_path)\n",
    "            current_df = pd.DataFrame(current_posts)\n",
    "            combined = pd.concat([prev_posts, current_df])\n",
    "            df = pd.DataFrame(combined)\n",
    "            df.to_csv(file_path, index = False)\n",
    "\n",
    "        else:\n",
    "            df = pd.DataFrame(posts)\n",
    "            df.to_csv(file_path, index = False)\n",
    "\n",
    "        # generate a random sleep duration to look more 'natural'\n",
    "        sleep_duration = random.randint(1,4)\n",
    "        time.sleep(sleep_duration)\n",
    "\n",
    "        # Update the progress bar value\n",
    "        progress_bar.value = a+1\n",
    "        \n",
    "        "
   ]
  },
  {
   "cell_type": "code",
   "execution_count": null,
   "id": "7725f7df",
   "metadata": {},
   "outputs": [],
   "source": [
    "scrape('brooklynninenine', 2000)\n",
    "scrape('bigbangtheory', 2000)"
   ]
  }
 ],
 "metadata": {
  "kernelspec": {
   "display_name": "Python 3 (ipykernel)",
   "language": "python",
   "name": "python3"
  },
  "language_info": {
   "codemirror_mode": {
    "name": "ipython",
    "version": 3
   },
   "file_extension": ".py",
   "mimetype": "text/x-python",
   "name": "python",
   "nbconvert_exporter": "python",
   "pygments_lexer": "ipython3",
   "version": "3.10.9"
  }
 },
 "nbformat": 4,
 "nbformat_minor": 5
}
